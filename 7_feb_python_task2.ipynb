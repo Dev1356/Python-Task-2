{
 "cells": [
  {
   "cell_type": "markdown",
   "id": "d1033dbd-d3a5-48d5-831c-cc5d14c3c0fe",
   "metadata": {},
   "source": [
    "### Q1. \n",
    "You are writing code for a company. The requirement of the company is that you create a python\n",
    "function that will check whether the password entered by the user is correct or not. The function should\n",
    "take the password as input and return the string “Valid Password” if the entered password follows the\n",
    "below-given password guidelines else it should return “Invalid Password”.\n",
    "<br>Note:\n",
    "1. The Password should contain at least two uppercase letters and at least two lowercase letters.\n",
    "2. The Password should contain at least a number and three special characters.\n",
    "3. The length of the password should be 10 characters long."
   ]
  },
  {
   "cell_type": "code",
   "execution_count": 82,
   "id": "619894c9-8a86-429a-8629-aa4eec7cee6d",
   "metadata": {},
   "outputs": [],
   "source": [
    "def check_password(Password):\n",
    "    if len(Password)!=10:     \n",
    "        return \"Invalid Password\"          ##3rd condition \n",
    "    \n",
    "    upper_count=0\n",
    "    lower_count=0\n",
    "    for i in Password:\n",
    "        if i.isupper():\n",
    "            upper_count+=1\n",
    "        elif i.islower():\n",
    "            lower_count+=1\n",
    "    if upper_count < 2 or lower_count<2:\n",
    "        return \"Invalid Password\"          ###1st condition\n",
    "    \n",
    "    Digit=0\n",
    "    special_count=0\n",
    "    for i in Password:\n",
    "        if i.isdigit():\n",
    "            Digit+=1\n",
    "        elif i in \"!@#$%&*()+_-~><?/\\|}\":\n",
    "            special_count+=1\n",
    "    if Digit==0 or special_count < 3:\n",
    "            return \"Invalid Password\"     ###2nd condition\n",
    "        \n",
    "    return \"Valid Password\"   \n",
    "        \n",
    "         \n",
    "    \n",
    "    "
   ]
  },
  {
   "cell_type": "code",
   "execution_count": 83,
   "id": "51c31826-3ba3-45ce-96b7-ffcb6c5696eb",
   "metadata": {},
   "outputs": [
    {
     "data": {
      "text/plain": [
       "'Invalid Password'"
      ]
     },
     "execution_count": 83,
     "metadata": {},
     "output_type": "execute_result"
    }
   ],
   "source": [
    "check_password(\"12345@#$PD\")"
   ]
  },
  {
   "cell_type": "code",
   "execution_count": 84,
   "id": "2161b15f-eae4-4cea-a5ca-6c86143a849b",
   "metadata": {},
   "outputs": [
    {
     "data": {
      "text/plain": [
       "'Valid Password'"
      ]
     },
     "execution_count": 84,
     "metadata": {},
     "output_type": "execute_result"
    }
   ],
   "source": [
    "check_password(\"123rv@#$PD\")"
   ]
  },
  {
   "cell_type": "code",
   "execution_count": null,
   "id": "f97bf9ce-8d9a-4340-a3f0-7d9457ed195e",
   "metadata": {},
   "outputs": [],
   "source": []
  },
  {
   "cell_type": "markdown",
   "id": "46c6cfa2-0b98-495e-998f-9640353d6d93",
   "metadata": {},
   "source": [
    "### Q2. Solve the below-given questions using at least one of the following:\n",
    "1. Lambda function\n",
    "2. Filter function\n",
    "3. Map function\n",
    "4. List Comprehension\n",
    "<br> a).Check if the string starts with a particular letter \n",
    "<br>b).Check if the string is numeric \n",
    "<br>c).Sort a list of tuples having fruit names and their quantity. [(\"mango\",99),(\"orange\",80), (\"grapes\", 1000)]\n",
    "<br>d). Find the squares of numbers from 1 to 10 \n",
    "<br>e).Find the cube root of numbers from 1 to 10 \n",
    "<br>f.) Check if a given number is even \n",
    "<br>g).Filter odd numbers from the given list.\n",
    "<br>[1,2,3,4,5,6,7,8,9,10]\n",
    "<br>i.)Sort a list of integers into positive and negative integers lists.\n",
    "[1,2,3,4,5,6,-1,-2,-3,-4,-5,0]"
   ]
  },
  {
   "cell_type": "code",
   "execution_count": 36,
   "id": "8efb93d3-ede7-4940-b3b8-55366ad17ce9",
   "metadata": {},
   "outputs": [],
   "source": [
    "# a)\n",
    "### By Using Lambda Function\n",
    "vowels=\"aeiou\"\n",
    "first_let=lambda s:s[0] in vowels\n",
    "## So this is a function that particular string start with vowels or not "
   ]
  },
  {
   "cell_type": "code",
   "execution_count": 13,
   "id": "2439f4a4-1405-4a5b-acd6-6c65746574e2",
   "metadata": {},
   "outputs": [
    {
     "name": "stdout",
     "output_type": "stream",
     "text": [
      "True\n",
      "False\n"
     ]
    }
   ],
   "source": [
    "Str1=\"akash\"\n",
    "Str2=\"dev\"\n",
    "print(first_let(Str1))\n",
    "print(first_let(Str2))"
   ]
  },
  {
   "cell_type": "code",
   "execution_count": 15,
   "id": "e92077ea-4896-453c-8333-b39614775c4b",
   "metadata": {},
   "outputs": [
    {
     "data": {
      "text/plain": [
       "['akash', 'om', 'usha']"
      ]
     },
     "execution_count": 15,
     "metadata": {},
     "output_type": "execute_result"
    }
   ],
   "source": [
    "### By Using filter Function\n",
    "l=[\"dev\",\"akash\",\"om\",\"usha\"]\n",
    "list(filter(lambda s:s[0] in vowels,l))"
   ]
  },
  {
   "cell_type": "code",
   "execution_count": 27,
   "id": "c1102aef-a528-4600-ad6d-2bb1d611e113",
   "metadata": {},
   "outputs": [
    {
     "name": "stdout",
     "output_type": "stream",
     "text": [
      "The string is a numeric string.\n"
     ]
    }
   ],
   "source": [
    "##b) checking that the string is numeric \n",
    "# By using Map Function\n",
    "is_numeric = lambda s: all(c.isdigit() or c == '.' for c in s) and any(c.isdigit() for c in s)\n",
    "\n",
    "string = \"123.45\"\n",
    "\n",
    "numeric_strings = list(filter(is_numeric, [string]))\n",
    "\n",
    "if len(numeric_strings) > 0:\n",
    "    print(\"The string is a numeric string.\")\n",
    "else:\n",
    "    print(\"The string is not a numeric string.\")"
   ]
  },
  {
   "cell_type": "code",
   "execution_count": null,
   "id": "5856179e-44a8-4108-89f4-2002fd626d0b",
   "metadata": {},
   "outputs": [],
   "source": []
  },
  {
   "cell_type": "code",
   "execution_count": 31,
   "id": "3e1b384e-6051-442e-ad4d-d79330052464",
   "metadata": {},
   "outputs": [
    {
     "name": "stdout",
     "output_type": "stream",
     "text": [
      "[('orange', 80), ('mango', 99), ('grapes', 1000)]\n"
     ]
    }
   ],
   "source": [
    "##c) sort the list of tuples\n",
    "## lambda function\n",
    "fruits = [(\"mango\", 99), (\"orange\", 80), (\"grapes\", 1000)]\n",
    "\n",
    "sorted_fruits = sorted(fruits, key=lambda x: x[1])\n",
    "\n",
    "print(sorted_fruits)"
   ]
  },
  {
   "cell_type": "code",
   "execution_count": 37,
   "id": "2d130de2-bc4a-4b46-bb00-b70b65ffd655",
   "metadata": {},
   "outputs": [],
   "source": [
    "##d) Square the numbers in the 1 to 10\n",
    "List=range(1,10)\n",
    "square=list(map(lambda x:x**2,List))"
   ]
  },
  {
   "cell_type": "code",
   "execution_count": 38,
   "id": "c830edd5-c5b3-4ea7-ab2c-75d010324af0",
   "metadata": {},
   "outputs": [
    {
     "data": {
      "text/plain": [
       "[1, 4, 9, 16, 25, 36, 49, 64, 81]"
      ]
     },
     "execution_count": 38,
     "metadata": {},
     "output_type": "execute_result"
    }
   ],
   "source": [
    "square"
   ]
  },
  {
   "cell_type": "code",
   "execution_count": 42,
   "id": "a8a57fc6-26e0-4a47-b400-98092be625be",
   "metadata": {},
   "outputs": [],
   "source": [
    "## e) make cube root of the numbers in 1 to 10\n",
    "List1=range(1,10)\n",
    "cube_root=list(map(lambda x:x**(1/3),List1))"
   ]
  },
  {
   "cell_type": "code",
   "execution_count": 43,
   "id": "bc9de86c-ffa9-46d6-9919-5937c7a14517",
   "metadata": {},
   "outputs": [
    {
     "data": {
      "text/plain": [
       "[1.0,\n",
       " 1.2599210498948732,\n",
       " 1.4422495703074083,\n",
       " 1.5874010519681994,\n",
       " 1.7099759466766968,\n",
       " 1.8171205928321397,\n",
       " 1.912931182772389,\n",
       " 2.0,\n",
       " 2.080083823051904]"
      ]
     },
     "execution_count": 43,
     "metadata": {},
     "output_type": "execute_result"
    }
   ],
   "source": [
    "cube_root"
   ]
  },
  {
   "cell_type": "code",
   "execution_count": 44,
   "id": "dfe314c9-276c-4a89-a3f5-97fb400fb15d",
   "metadata": {},
   "outputs": [],
   "source": [
    "## f) check the given numvers are even \n",
    "even=lambda x:x%2==0"
   ]
  },
  {
   "cell_type": "code",
   "execution_count": 45,
   "id": "37ee9e56-e400-40a0-94a6-40d13e52aebd",
   "metadata": {},
   "outputs": [
    {
     "data": {
      "text/plain": [
       "True"
      ]
     },
     "execution_count": 45,
     "metadata": {},
     "output_type": "execute_result"
    }
   ],
   "source": [
    "even(2)"
   ]
  },
  {
   "cell_type": "code",
   "execution_count": 46,
   "id": "5a023d69-2e1a-4da5-bc37-5fd794acee56",
   "metadata": {},
   "outputs": [
    {
     "data": {
      "text/plain": [
       "False"
      ]
     },
     "execution_count": 46,
     "metadata": {},
     "output_type": "execute_result"
    }
   ],
   "source": [
    "even(3)"
   ]
  },
  {
   "cell_type": "code",
   "execution_count": 48,
   "id": "858cb8fd-54a5-42b0-8672-41c0c3f874d6",
   "metadata": {},
   "outputs": [
    {
     "data": {
      "text/plain": [
       "[1, 3, 5, 7, 9]"
      ]
     },
     "execution_count": 48,
     "metadata": {},
     "output_type": "execute_result"
    }
   ],
   "source": [
    "##g).Filter odd numbers from the given list.\n",
    "List3=[1,2,3,4,5,6,7,8,9,10]\n",
    "list(filter(lambda x : x%2==1,List3))"
   ]
  },
  {
   "cell_type": "code",
   "execution_count": 58,
   "id": "ee0a4dd6-bb19-430e-8509-21f29a4854b7",
   "metadata": {},
   "outputs": [
    {
     "name": "stdout",
     "output_type": "stream",
     "text": [
      "[1, 2, 3, 4, 5, 6] [-1, -2, -3, -4, -5]\n"
     ]
    }
   ],
   "source": [
    "## h) Sort a list of integers into positive and negative integers lists.\n",
    "List4=[1,2,3,4,5,6,-1,-2,-3,-4,-5,0]\n",
    "Positive=list(filter(lambda x:x>0,List4))\n",
    "Negative=list(filter(lambda x:x<0,List4))\n",
    "print(Positive,Negative)"
   ]
  },
  {
   "cell_type": "code",
   "execution_count": null,
   "id": "53359a78-2afa-4cbb-a00f-52f740d1effb",
   "metadata": {},
   "outputs": [],
   "source": []
  }
 ],
 "metadata": {
  "kernelspec": {
   "display_name": "Python 3 (ipykernel)",
   "language": "python",
   "name": "python3"
  },
  "language_info": {
   "codemirror_mode": {
    "name": "ipython",
    "version": 3
   },
   "file_extension": ".py",
   "mimetype": "text/x-python",
   "name": "python",
   "nbconvert_exporter": "python",
   "pygments_lexer": "ipython3",
   "version": "3.10.8"
  }
 },
 "nbformat": 4,
 "nbformat_minor": 5
}
